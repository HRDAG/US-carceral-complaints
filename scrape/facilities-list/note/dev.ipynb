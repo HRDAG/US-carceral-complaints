{
 "cells": [
  {
   "cell_type": "code",
   "execution_count": 1,
   "id": "4263bba2-4304-4b49-ab21-d47a45ecec68",
   "metadata": {},
   "outputs": [],
   "source": [
    "from ipywidgets import HTML"
   ]
  },
  {
   "cell_type": "code",
   "execution_count": 2,
   "id": "c9f9980d-5fc1-4845-b937-dd3ff6d6b904",
   "metadata": {},
   "outputs": [],
   "source": [
    "# dependencies\n",
    "import pandas as pd\n",
    "import bs4"
   ]
  },
  {
   "cell_type": "code",
   "execution_count": 3,
   "id": "284a3d25-39b9-4e66-bff1-ffc64ec2ec7a",
   "metadata": {},
   "outputs": [],
   "source": [
    "# support methods\n",
    "def readhtml(fname):\n",
    "    with open(fname, 'r') as f:\n",
    "        html = f.read()\n",
    "    return html"
   ]
  },
  {
   "cell_type": "code",
   "execution_count": 4,
   "id": "720d76bd-861f-4414-b744-39e72df95f57",
   "metadata": {},
   "outputs": [],
   "source": [
    "# main\n",
    "html = readhtml(fname=\"../output/facility_soup.html\")\n",
    "soup = bs4.BeautifulSoup(html, 'html.parser')\n",
    "pages = pd.read_parquet(\"../output/pages.parquet\")"
   ]
  },
  {
   "cell_type": "code",
   "execution_count": 5,
   "id": "f42fff26-a5fb-4fcb-8d5e-0a4a88afbbf2",
   "metadata": {},
   "outputs": [],
   "source": [
    "page1 = bs4.BeautifulSoup(pages.html.values[0], 'html.parser')"
   ]
  },
  {
   "cell_type": "code",
   "execution_count": 6,
   "id": "a8f8ffaf-58ae-4521-9617-281144b49f49",
   "metadata": {},
   "outputs": [],
   "source": [
    "ignore = [\n",
    "    '\\xa0',\n",
    "    'Notice:\\xa0IDOC has transitioned technology services to ICSolutions.',\n",
    "    'Information on video visitation is available\\xa0here. Information on ICS CorrLinks electronic messaging is available\\xa0here\\xa0at the bottom of the page.',\n",
    "    '\\n\\n            Facilities\\n',\n",
    "]\n",
    "paragraphs = []\n",
    "for item in page1.find_all('p'):\n",
    "    if (item.text.strip() == '') | (item.text in ignore): continue\n",
    "    #elif item.text.strip() == 'Facility Address': break\n",
    "    paragraphs.append(item.text.strip())"
   ]
  },
  {
   "cell_type": "code",
   "execution_count": 7,
   "id": "3de5d89d-5edb-4b14-9b98-a2c244276d81",
   "metadata": {},
   "outputs": [],
   "source": [
    "kept, dropped = [], []\n",
    "for p in paragraphs:\n",
    "    if any([kw in p.lower() for kw in (\n",
    "        'warden', 'capacity', 'down',\n",
    "        'visitors', 'visitation hours', 'phone', 'mail',\n",
    "        'security',\n",
    "        )]):\n",
    "        kept.append(p)\n",
    "    else: dropped.append(p)"
   ]
  },
  {
   "cell_type": "code",
   "execution_count": 8,
   "id": "b8776dff-7490-4635-b52e-c7dca3b6978e",
   "metadata": {},
   "outputs": [
    {
     "data": {
      "text/plain": [
       "['Jeremiah Brown, Warden',\n",
       " 'Lawrence Correctional Center\\nOpened: November 2001\\n*Operational Capacity: 1,241\\nMaximum Security Adult Male\\nPopulation: 879 (as of 6/30/24)\\nAverage Annual Cost Per Individual: $76,218 (FY22)',\n",
       " '*Operational capacity is the maximum number of beds a facility has; to include all health care, crisis, restricted housing, protective custody, isolation, R&Cs, and future beds that are down for repair. Data reflects a bed space capacity census that was conducted in August 2022.',\n",
       " 'The change machine in the visitor entrance is down until further notice. All visitors are required to place personal belongings in a locker, which must be purchased for $.50. Visitors are required to bring $.50. Please note the lockers take quarters only. The facility are unable to make change for visitors.',\n",
       " 'In-person visitation hours are Sunday through Friday 8:15am - 12:15pm General Population, Restrictive Housing, and Level E; 12:30pm - 2:30pm Administrative Detention; and 3:00pm - 7:00pm Protective Custody.\\xa0 On Saturdays only, in-person visitation hours are 8:15am - 12:15pm Protective Custody; 12:30pm - 2:30pm Administrative Detention; and 3:00pm - 7:00pm General Population, Restrictive Housing and Level E.',\n",
       " 'Business Mail:\\n10940 Lawrence Road\\nSumner, IL 62466',\n",
       " 'Individual in Custody\\xa0Mail:\\nIndividual in Custody\\xa0Name & IDOC#\\n10930 Lawrence Road\\nSumner, IL 62466',\n",
       " 'Phone: (618) 936-2064\\nFax: (618) 936-2577',\n",
       " 'Lawrence Correctional Center is a Maximum Security Adult Male facility located in southeastern Illinois. The facility consists of 16 buildings, which comprise more than 364,000 square feet. The warehouse, mailroom, vehicle maintenance and maintenance departments are located outside of the perimeter fence, which assists in the safety and security of the facility. Lawrence Correctional Center consists of approximately 56 acres on a 160-acre site. The eight housing units are T-design with a restrictive housing unit and health care unit. The facility is ADA (American Disabilities Act) approved and houses several ADA individuals in custody\\xa0.']"
      ]
     },
     "execution_count": 8,
     "metadata": {},
     "output_type": "execute_result"
    }
   ],
   "source": [
    "kept"
   ]
  },
  {
   "cell_type": "code",
   "execution_count": 9,
   "id": "b446d79f-6f0d-4977-bdd6-40bec43918a0",
   "metadata": {},
   "outputs": [
    {
     "data": {
      "text/plain": [
       "['Visitor ADA Accommodations',\n",
       " 'IDOC Visitation Rules and Information',\n",
       " 'To visit Lawrence Correctional Center, you must\\xa0sign up\\xa0in advance.',\n",
       " 'Video Visitation',\n",
       " 'Video Visitation Guidelines',\n",
       " 'Lawrence Correctional Center is committed to public safety and individual in custody\\xa0habilitation by providing efficient correctional services through secure and humane facility operations. Utilizing evidence-based programming and enhanced individual in custody\\xa0mental health treatment service delivery, habilitation, successful reentry into the community and the reduction of recidivism are prioritized. By establishing a learning environment, the focus for individual in custody\\xa0cognitive and behavioral modification will be delivered via a service approach in education, recreation, religious and medical treatment opportunities. Lawrence Correctional Center promotes a team building administrative model with innovation, collaboration and high performance emphasized for positive staff morale and overall job satisfaction.',\n",
       " 'Individual in Custody\\xa0Programs',\n",
       " 'Academic:',\n",
       " 'Career and Technical Education:',\n",
       " 'Other:']"
      ]
     },
     "execution_count": 9,
     "metadata": {},
     "output_type": "execute_result"
    }
   ],
   "source": [
    "dropped"
   ]
  },
  {
   "cell_type": "code",
   "execution_count": null,
   "id": "caf4dc39-ad70-4e75-ade9-ce15b4db4d24",
   "metadata": {},
   "outputs": [],
   "source": []
  }
 ],
 "metadata": {
  "kernelspec": {
   "display_name": "toolkit",
   "language": "python",
   "name": "toolkit"
  },
  "language_info": {
   "codemirror_mode": {
    "name": "ipython",
    "version": 3
   },
   "file_extension": ".py",
   "mimetype": "text/x-python",
   "name": "python",
   "nbconvert_exporter": "python",
   "pygments_lexer": "ipython3",
   "version": "3.13.5"
  }
 },
 "nbformat": 4,
 "nbformat_minor": 5
}
